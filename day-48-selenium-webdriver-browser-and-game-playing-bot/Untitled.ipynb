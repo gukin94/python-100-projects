{
 "cells": [
  {
   "cell_type": "markdown",
   "id": "cc91c4c4",
   "metadata": {},
   "source": [
    "## 413. How to install & set up Selenium\n",
    "1. Install Chrome\n",
    "2. Download Chrome driver\n",
    "3. Install & setup Selenium\n",
    "\n",
    "https://www.google.com/intl/en_uk/chrome/  \n",
    "https://chromedriver.chromium.org/downloads\n",
    "\n",
    "different between \n",
    "`driver.close()` and\n",
    "`driver.quit()` \n",
    "is that `driver.close()` just closes a single tab(the active tab)\n",
    "`driver.quit()` will quit entire system."
   ]
  },
  {
   "cell_type": "markdown",
   "id": "46660e58",
   "metadata": {},
   "source": [
    "## 414. How to find and select elements on a website with Selenium"
   ]
  },
  {
   "cell_type": "markdown",
   "id": "5beacd37",
   "metadata": {},
   "source": []
  },
  {
   "cell_type": "markdown",
   "id": "4806bad5",
   "metadata": {},
   "source": []
  },
  {
   "cell_type": "markdown",
   "id": "df6e6c22",
   "metadata": {},
   "source": []
  },
  {
   "cell_type": "markdown",
   "id": "6e5f424b",
   "metadata": {},
   "source": []
  },
  {
   "cell_type": "markdown",
   "id": "f726ac93",
   "metadata": {},
   "source": []
  },
  {
   "cell_type": "markdown",
   "id": "1aaa97d8",
   "metadata": {},
   "source": []
  },
  {
   "cell_type": "markdown",
   "id": "3924dae9",
   "metadata": {},
   "source": []
  },
  {
   "cell_type": "markdown",
   "id": "cc553070",
   "metadata": {},
   "source": []
  }
 ],
 "metadata": {
  "kernelspec": {
   "display_name": "Python 3 (ipykernel)",
   "language": "python",
   "name": "python3"
  },
  "language_info": {
   "codemirror_mode": {
    "name": "ipython",
    "version": 3
   },
   "file_extension": ".py",
   "mimetype": "text/x-python",
   "name": "python",
   "nbconvert_exporter": "python",
   "pygments_lexer": "ipython3",
   "version": "3.9.12"
  }
 },
 "nbformat": 4,
 "nbformat_minor": 5
}
